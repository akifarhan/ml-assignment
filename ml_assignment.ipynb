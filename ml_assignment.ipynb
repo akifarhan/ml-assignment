{
  "cells": [
    {
      "cell_type": "markdown",
      "metadata": {
        "id": "view-in-github",
        "colab_type": "text"
      },
      "source": [
        "<a href=\"https://colab.research.google.com/github/akifarhan/ml-assignment/blob/master/ml_assignment.ipynb\" target=\"_parent\"><img src=\"https://colab.research.google.com/assets/colab-badge.svg\" alt=\"Open In Colab\"/></a>"
      ]
    },
    {
      "cell_type": "code",
      "metadata": {
        "id": "dYyKzKCmJxwH",
        "colab_type": "code",
        "colab": {}
      },
      "source": [
        "print('hi')"
      ],
      "execution_count": 0,
      "outputs": [
        {
          "output_type": "error",
          "ename": "Error",
          "evalue": "Jupyter cannot be started. Error attempting to locate jupyter: Data Science libraries jupyter and notebook are not installed in interpreter Python 3.7.3 64-bit.",
          "traceback": [
            "Error: Jupyter cannot be started. Error attempting to locate jupyter: Data Science libraries jupyter and notebook are not installed in interpreter Python 3.7.3 64-bit.",
            "at C.startServer (/Users/akifarhan/.vscode/extensions/ms-python.python-2020.4.76186/out/client/extension.js:75:829561)",
            "at runMicrotasks (<anonymous>)",
            "at processTicksAndRejections (internal/process/task_queues.js:85:5)",
            "at C.createServer (/Users/akifarhan/.vscode/extensions/ms-python.python-2020.4.76186/out/client/extension.js:75:829004)",
            "at C.ensureServerAndNotebookImpl (/Users/akifarhan/.vscode/extensions/ms-python.python-2020.4.76186/out/client/extension.js:1:864755)",
            "at C.ensureServerAndNotebook (/Users/akifarhan/.vscode/extensions/ms-python.python-2020.4.76186/out/client/extension.js:1:864445)",
            "at C.clearResult (/Users/akifarhan/.vscode/extensions/ms-python.python-2020.4.76186/out/client/extension.js:1:860512)",
            "at C.reexecuteCell (/Users/akifarhan/.vscode/extensions/ms-python.python-2020.4.76186/out/client/extension.js:1:848782)",
            "at C.reexecuteCells (/Users/akifarhan/.vscode/extensions/ms-python.python-2020.4.76186/out/client/extension.js:1:845949)"
          ]
        }
      ]
    },
    {
      "cell_type": "code",
      "execution_count": null,
      "metadata": {},
      "outputs": [],
      "source": []
    }
  ],
  "metadata": {
    "colab": {
      "name": "ml-assignment.ipynb",
      "provenance": [],
      "authorship_tag": "ABX9TyPUVGq+SUk4Dt8jZEBoHf9O",
      "include_colab_link": true
    },
    "kernelspec": {
      "name": "python3",
      "display_name": "Python 3"
    }
  },
  "nbformat": 4,
  "nbformat_minor": 0
}